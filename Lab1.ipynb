{
  "nbformat": 4,
  "nbformat_minor": 0,
  "metadata": {
    "colab": {
      "provenance": [],
      "authorship_tag": "ABX9TyMNXLkRfvFRk6oNj5QyoWkA",
      "include_colab_link": true
    },
    "kernelspec": {
      "name": "python3",
      "display_name": "Python 3"
    },
    "language_info": {
      "name": "python"
    }
  },
  "cells": [
    {
      "cell_type": "markdown",
      "metadata": {
        "id": "view-in-github",
        "colab_type": "text"
      },
      "source": [
        "<a href=\"https://colab.research.google.com/github/dwngprogramming/ML-Learning/blob/lab1/Lab1.ipynb\" target=\"_parent\"><img src=\"https://colab.research.google.com/assets/colab-badge.svg\" alt=\"Open In Colab\"/></a>"
      ]
    },
    {
      "cell_type": "code",
      "execution_count": 7,
      "metadata": {
        "colab": {
          "base_uri": "https://localhost:8080/"
        },
        "id": "JyRn6wmnoHuy",
        "outputId": "d8e878e8-efc9-421b-ba4c-bb49ae1a2ee1"
      },
      "outputs": [
        {
          "output_type": "stream",
          "name": "stdout",
          "text": [
            "HELLO, DUNG PHAM!\n",
            "Hello, Dung Pham!\n"
          ]
        }
      ],
      "source": [
        "class Greeter (object):\n",
        "  def __init__(self, name):\n",
        "    self.name = name\n",
        "\n",
        "  def greet(self, loud=False):\n",
        "    if loud:\n",
        "      print('HELLO, %s!' % self.name.upper())\n",
        "    else:\n",
        "      print('Hello, %s!' % self.name)\n",
        "\n",
        "g = Greeter(\"Dung Pham\")\n",
        "g.greet(loud=True)\n",
        "g.greet()"
      ]
    }
  ]
}