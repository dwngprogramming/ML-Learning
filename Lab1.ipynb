{
  "nbformat": 4,
  "nbformat_minor": 0,
  "metadata": {
    "colab": {
      "provenance": [],
      "authorship_tag": "ABX9TyN5rO4ehWosu3YFX0GoAA0W",
      "include_colab_link": true
    },
    "kernelspec": {
      "name": "python3",
      "display_name": "Python 3"
    },
    "language_info": {
      "name": "python"
    }
  },
  "cells": [
    {
      "cell_type": "markdown",
      "metadata": {
        "id": "view-in-github",
        "colab_type": "text"
      },
      "source": [
        "<a href=\"https://colab.research.google.com/github/dwngprogramming/ML-Learning/blob/lab1/Lab1.ipynb\" target=\"_parent\"><img src=\"https://colab.research.google.com/assets/colab-badge.svg\" alt=\"Open In Colab\"/></a>"
      ]
    },
    {
      "cell_type": "code",
      "execution_count": 28,
      "metadata": {
        "colab": {
          "base_uri": "https://localhost:8080/"
        },
        "id": "JyRn6wmnoHuy",
        "outputId": "69ea2e49-f191-4c98-d1a7-f62075d34693"
      },
      "outputs": [
        {
          "output_type": "stream",
          "name": "stdout",
          "text": [
            "Enter n: 2\n",
            "2\n",
            "Enter n integer numbers: 4\n",
            "Enter integer 1: 1\n",
            "Enter integer 2: -5\n",
            "Enter integer 3: 12\n",
            "Enter integer 4: 18\n",
            "[1, -5, 12, 18]\n",
            "Max value in L: 18\n",
            "Min value in L: -5\n",
            "Sum of L: 26\n",
            "Asc sort: [-5, 1, 12, 18]\n",
            "Desc sort: [18, 12, 1, -5]\n",
            "Positive in L: 3\n",
            "Negative in L: 1\n"
          ]
        }
      ],
      "source": [
        "# Task 1.1:\n",
        "\n",
        "# Input an integer number n\n",
        "n = int(input(\"Enter n: \"))\n",
        "print(n)\n",
        "\n",
        "# Input n integer numbers x1, x2,..., xn and append them into a list L\n",
        "n = int(input(\"Enter n integer numbers: \"))\n",
        "L = []\n",
        "for x in range(n):\n",
        "  x = int(input(f\"Enter integer {x + 1}: \"))\n",
        "  L.append(x)\n",
        "print(L)\n",
        "\n",
        "# Find the max/min element in L\n",
        "maxVal = max(L)\n",
        "print(\"Max value in L:\", maxVal)\n",
        "\n",
        "minVal = min(L)\n",
        "print(\"Min value in L:\", minVal)\n",
        "\n",
        "# Compute the sum of elements in L\n",
        "sumVal = sum(L)\n",
        "print(\"Sum of L:\", sumVal)\n",
        "\n",
        "# Sort the list L in ascending order\n",
        "L.sort()\n",
        "print(\"Asc sort:\", L)\n",
        "\n",
        "# (Bonus) Sort the list L in descending order\n",
        "L.sort(reverse=True)\n",
        "print(\"Desc sort:\", L)\n",
        "\n",
        "# Show how many positive and negative number are in the list L\n",
        "positive = 0\n",
        "negative = 0\n",
        "\n",
        "for num in L:\n",
        "  if (num < 0):\n",
        "    negative = negative + 1\n",
        "  else:\n",
        "    positive = positive + 1\n",
        "print(\"Positive in L:\", positive)\n",
        "print(\"Negative in L:\", negative)"
      ]
    },
    {
      "cell_type": "code",
      "source": [
        "# Task 1.2: Implement a Python function to compute S(n) as follow\n",
        "\n",
        "# Factorial recursive\n",
        "def factorial(n):\n",
        "  if (n < 0):\n",
        "    return 0\n",
        "  elif (n == 0 or n == 1):\n",
        "    return 1\n",
        "  else:\n",
        "    print(n)\n",
        "    return n * factorial(n-1)\n",
        "\n",
        "# Hàm S(n)\n",
        "def S(n):\n",
        "    if n <= 0:\n",
        "        return 0\n",
        "    else:\n",
        "        result = 0\n",
        "        for i in range(1, n + 1):\n",
        "            result += factorial(i)\n",
        "        return result\n",
        "\n",
        "# Main Expression\n",
        "def mathCalculator(n):\n",
        "    return S(n) - S(n-1)\n",
        "# n = 4 => factorial(4) + factorial(3)\n",
        "# n = 3 => factorial(3) + factorial(2)\n",
        "\n",
        "print(mathCalculator(3))"
      ],
      "metadata": {
        "colab": {
          "base_uri": "https://localhost:8080/"
        },
        "id": "to9a2Sjb09uF",
        "outputId": "8ccb233a-03c2-4049-f781-69114e3bab04"
      },
      "execution_count": 4,
      "outputs": [
        {
          "output_type": "stream",
          "name": "stdout",
          "text": [
            "2\n",
            "3\n",
            "2\n",
            "2\n",
            "6\n"
          ]
        }
      ]
    },
    {
      "cell_type": "code",
      "source": [
        "# Task 1.3\n",
        "class Account:\n",
        "  def __init__(self, name, email, country, friends, posts):\n",
        "    self.name = name\n",
        "    self.email = email\n",
        "    self.country = country"
      ],
      "metadata": {
        "id": "2Q70SZLG7qga"
      },
      "execution_count": null,
      "outputs": []
    }
  ]
}